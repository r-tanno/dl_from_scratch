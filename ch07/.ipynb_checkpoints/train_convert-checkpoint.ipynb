{
 "cells": [
  {
   "cell_type": "code",
   "execution_count": 8,
   "metadata": {},
   "outputs": [],
   "source": [
    "# coding: utf-8\n",
    "import sys, os\n",
    "sys.path.append(os.pardir)  # 親ディレクトリのファイルをインポートするための設定\n",
    "import numpy as np\n",
    "import matplotlib.pyplot as plt\n",
    "from dataset.fashion_mnist import load_mnist\n",
    "#from dataset.mnist import load_mnist\n",
    "from simple_convnet import SimpleConvNet\n",
    "from common.trainer import Trainer\n",
    "\n",
    "# データの読み込み\n",
    "(x_train, t_train), (x_test, t_test) = load_mnist(flatten=False)\n",
    "\n",
    "# 処理に時間のかかる場合はデータを削減 \n",
    "# x_train, t_train = x_train[:5000], t_train[:5000]\n",
    "# x_test, t_test = x_test[:1000], t_test[:1000]\n",
    "x_train, t_train = x_train[:10000], t_train[:10000]\n",
    "x_test, t_test = x_test[:2000], t_test[:2000]\n",
    "\n",
    "max_epochs = 10\n",
    "\n",
    "networks = {}\n",
    "trainers = {}"
   ]
  },
  {
   "cell_type": "code",
   "execution_count": 9,
   "metadata": {},
   "outputs": [
    {
     "name": "stdout",
     "output_type": "stream",
     "text": [
      "=== epoch:1, train acc:0.1, test acc:0.097 ===\n",
      "=== epoch:2, train acc:0.776, test acc:0.75 ===\n",
      "=== epoch:3, train acc:0.788, test acc:0.76 ===\n",
      "=== epoch:4, train acc:0.797, test acc:0.772 ===\n",
      "=== epoch:5, train acc:0.848, test acc:0.831 ===\n",
      "=== epoch:6, train acc:0.851, test acc:0.825 ===\n",
      "=== epoch:7, train acc:0.886, test acc:0.857 ===\n",
      "=== epoch:8, train acc:0.88, test acc:0.856 ===\n",
      "=== epoch:9, train acc:0.895, test acc:0.865 ===\n",
      "=== epoch:10, train acc:0.904, test acc:0.87 ===\n",
      "=============== Final Test Accuracy ===============\n",
      "test acc:0.8745\n"
     ]
    }
   ],
   "source": [
    "networks['RMSprop'] = SimpleConvNet(input_dim=(1,28,28), \n",
    "                        conv_param = {'filter_num': 30, 'filter_size': 5, 'pad': 0, 'stride': 1},\n",
    "                        hidden_size=100, output_size=10, weight_init_std=0.01)\n",
    "\n",
    "trainers['RMSprop'] = Trainer(networks['RMSprop'], x_train, t_train, x_test, t_test,\n",
    "                  epochs=max_epochs, mini_batch_size=100,\n",
    "                  optimizer='RMSprop', optimizer_param={'lr': 0.001},\n",
    "                  evaluate_sample_num_per_epoch=1000)\n",
    "\n",
    "trainers['RMSprop'].train()"
   ]
  },
  {
   "cell_type": "code",
   "execution_count": 10,
   "metadata": {},
   "outputs": [
    {
     "name": "stdout",
     "output_type": "stream",
     "text": [
      "=== epoch:1, train acc:0.249, test acc:0.256 ===\n",
      "=== epoch:2, train acc:0.728, test acc:0.701 ===\n",
      "=== epoch:3, train acc:0.751, test acc:0.732 ===\n",
      "=== epoch:4, train acc:0.777, test acc:0.757 ===\n",
      "=== epoch:5, train acc:0.829, test acc:0.805 ===\n",
      "=== epoch:6, train acc:0.83, test acc:0.793 ===\n",
      "=== epoch:7, train acc:0.828, test acc:0.801 ===\n",
      "=== epoch:8, train acc:0.831, test acc:0.807 ===\n",
      "=== epoch:9, train acc:0.872, test acc:0.841 ===\n",
      "=== epoch:10, train acc:0.867, test acc:0.832 ===\n",
      "=============== Final Test Accuracy ===============\n",
      "test acc:0.8395\n"
     ]
    }
   ],
   "source": [
    "networks['Adam'] = SimpleConvNet(input_dim=(1,28,28), \n",
    "                        conv_param = {'filter_num': 30, 'filter_size': 5, 'pad': 0, 'stride': 1},\n",
    "                        hidden_size=100, output_size=10, weight_init_std=0.01)\n",
    "\n",
    "trainers['Adam'] = Trainer(networks['Adam'], x_train, t_train, x_test, t_test,\n",
    "                  epochs=max_epochs, mini_batch_size=100,\n",
    "                  optimizer='Adam', optimizer_param={},\n",
    "                  evaluate_sample_num_per_epoch=1000)\n",
    "\n",
    "trainers['Adam'].train()"
   ]
  },
  {
   "cell_type": "code",
   "execution_count": 11,
   "metadata": {},
   "outputs": [
    {
     "name": "stdout",
     "output_type": "stream",
     "text": [
      "=== epoch:1, train acc:0.403, test acc:0.378 ===\n",
      "=== epoch:2, train acc:0.753, test acc:0.736 ===\n",
      "=== epoch:3, train acc:0.768, test acc:0.742 ===\n",
      "=== epoch:4, train acc:0.818, test acc:0.79 ===\n",
      "=== epoch:5, train acc:0.795, test acc:0.774 ===\n",
      "=== epoch:6, train acc:0.862, test acc:0.83 ===\n",
      "=== epoch:7, train acc:0.879, test acc:0.84 ===\n",
      "=== epoch:8, train acc:0.879, test acc:0.843 ===\n",
      "=== epoch:9, train acc:0.884, test acc:0.86 ===\n",
      "=== epoch:10, train acc:0.859, test acc:0.832 ===\n",
      "=============== Final Test Accuracy ===============\n",
      "test acc:0.844\n"
     ]
    }
   ],
   "source": [
    "networks['SDprop'] = SimpleConvNet(input_dim=(1,28,28), \n",
    "                        conv_param = {'filter_num': 30, 'filter_size': 5, 'pad': 0, 'stride': 1},\n",
    "                        hidden_size=100, output_size=10, weight_init_std=0.01)\n",
    "\n",
    "trainers['SDprop'] = Trainer(networks['SDprop'], x_train, t_train, x_test, t_test,\n",
    "                  epochs=max_epochs, mini_batch_size=100,\n",
    "                  optimizer='SDprop', optimizer_param={},\n",
    "                  evaluate_sample_num_per_epoch=1000)\n",
    "\n",
    "trainers['SDprop'].train()"
   ]
  },
  {
   "cell_type": "code",
   "execution_count": 12,
   "metadata": {
    "scrolled": true
   },
   "outputs": [
    {
     "name": "stdout",
     "output_type": "stream",
     "text": [
      "=== epoch:1, train acc:0.162, test acc:0.168 ===\n",
      "=== epoch:2, train acc:0.73, test acc:0.714 ===\n",
      "=== epoch:3, train acc:0.744, test acc:0.729 ===\n",
      "=== epoch:4, train acc:0.778, test acc:0.753 ===\n",
      "=== epoch:5, train acc:0.806, test acc:0.795 ===\n",
      "=== epoch:6, train acc:0.81, test acc:0.788 ===\n",
      "=== epoch:7, train acc:0.846, test acc:0.807 ===\n",
      "=== epoch:8, train acc:0.839, test acc:0.801 ===\n",
      "=== epoch:9, train acc:0.844, test acc:0.821 ===\n",
      "=== epoch:10, train acc:0.856, test acc:0.817 ===\n",
      "=============== Final Test Accuracy ===============\n",
      "test acc:0.8275\n"
     ]
    }
   ],
   "source": [
    "networks['Adastand'] = SimpleConvNet(input_dim=(1,28,28), \n",
    "                        conv_param = {'filter_num': 30, 'filter_size': 5, 'pad': 0, 'stride': 1},\n",
    "                        hidden_size=100, output_size=10, weight_init_std=0.01)\n",
    "\n",
    "trainers['Adastand'] = Trainer(networks['Adastand'], x_train, t_train, x_test, t_test,\n",
    "                  epochs=max_epochs, mini_batch_size=100,\n",
    "                  optimizer='Adastand', optimizer_param={},\n",
    "                  evaluate_sample_num_per_epoch=1000)\n",
    "\n",
    "trainers['Adastand'].train()"
   ]
  },
  {
   "cell_type": "code",
   "execution_count": 17,
   "metadata": {},
   "outputs": [
    {
     "data": {
      "image/png": "[encoded data removed]",
      "text/plain": [
       "<Figure size 432x288 with 1 Axes>"
      ]
     },
     "metadata": {},
     "output_type": "display_data"
    }
   ],
   "source": [
    "# グラフの描画\n",
    "markers = {'RMSprop': '*', 'Adam': 'D', 'SDprop': 'o'}\n",
    "x = np.arange(max_epochs)\n",
    "#plt.plot(x, trainer.train_acc_list, marker='o', label='train', markevery=2)\n",
    "plt.plot(x, trainers['RMSprop'].test_acc_list, marker='*', label='RMSprop', markevery=2)\n",
    "plt.plot(x, trainers['Adam'].test_acc_list, marker='D', label='Adam', markevery=2)\n",
    "plt.plot(x, trainers['SDprop'].test_acc_list, marker='o', label='SDprop', markevery=2)\n",
    "plt.plot(x, trainers['Adastand'].test_acc_list, marker='o', label='Adastand', markevery=2)\n",
    "plt.xlabel(\"epochs\")\n",
    "plt.ylabel(\"accuracy\")\n",
    "plt.ylim(0.6, 1.0)\n",
    "plt.legend(loc='lower right')\n",
    "plt.show()"
   ]
  },
  {
   "cell_type": "code",
   "execution_count": null,
   "metadata": {},
   "outputs": [],
   "source": []
  }
 ],
 "metadata": {
  "kernelspec": {
   "display_name": "Python 3",
   "language": "python",
   "name": "python3"
  },
  "language_info": {
   "codemirror_mode": {
    "name": "ipython",
    "version": 3
   },
   "file_extension": ".py",
   "mimetype": "text/x-python",
   "name": "python",
   "nbconvert_exporter": "python",
   "pygments_lexer": "ipython3",
   "version": "3.5.4"
  }
 },
 "nbformat": 4,
 "nbformat_minor": 2
}
