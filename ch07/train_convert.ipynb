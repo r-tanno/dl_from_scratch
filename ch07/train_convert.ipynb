{
 "cells": [
  {
   "cell_type": "code",
   "execution_count": 1,
   "metadata": {},
   "outputs": [],
   "source": [
    "# coding: utf-8\n",
    "import sys, os\n",
    "sys.path.append(os.pardir)  # 親ディレクトリのファイルをインポートするための設定\n",
    "import numpy as np\n",
    "import matplotlib.pyplot as plt\n",
    "from dataset.mnist import load_mnist\n",
    "from simple_convnet import SimpleConvNet\n",
    "from common.trainer import Trainer\n",
    "\n",
    "# データの読み込み\n",
    "(x_train, t_train), (x_test, t_test) = load_mnist(flatten=False)\n",
    "\n",
    "# 処理に時間のかかる場合はデータを削減 \n",
    "x_train, t_train = x_train[:5000], t_train[:5000]\n",
    "x_test, t_test = x_test[:1000], t_test[:1000]\n",
    "# x_train, t_train = x_train[:10000], t_train[:10000]\n",
    "# x_test, t_test = x_test[:2000], t_test[:2000]\n",
    "\n",
    "max_epochs = 20\n",
    "\n",
    "networks = {}\n",
    "trainers = {}"
   ]
  },
  {
   "cell_type": "code",
   "execution_count": 2,
   "metadata": {},
   "outputs": [
    {
     "name": "stdout",
     "output_type": "stream",
     "text": [
      "=== epoch:1, train acc:0.095, test acc:0.088 ===\n",
      "=== epoch:2, train acc:0.873, test acc:0.851 ===\n",
      "=== epoch:3, train acc:0.914, test acc:0.912 ===\n",
      "=== epoch:4, train acc:0.941, test acc:0.923 ===\n",
      "=== epoch:5, train acc:0.954, test acc:0.937 ===\n",
      "=== epoch:6, train acc:0.964, test acc:0.936 ===\n",
      "=== epoch:7, train acc:0.967, test acc:0.951 ===\n",
      "=== epoch:8, train acc:0.97, test acc:0.95 ===\n",
      "=== epoch:9, train acc:0.975, test acc:0.954 ===\n",
      "=== epoch:10, train acc:0.986, test acc:0.962 ===\n",
      "=== epoch:11, train acc:0.988, test acc:0.957 ===\n",
      "=== epoch:12, train acc:0.987, test acc:0.955 ===\n",
      "=== epoch:13, train acc:0.99, test acc:0.965 ===\n",
      "=== epoch:14, train acc:0.993, test acc:0.967 ===\n",
      "=== epoch:15, train acc:0.994, test acc:0.958 ===\n",
      "=== epoch:16, train acc:0.999, test acc:0.964 ===\n",
      "=== epoch:17, train acc:0.998, test acc:0.968 ===\n",
      "=== epoch:18, train acc:0.995, test acc:0.959 ===\n",
      "=== epoch:19, train acc:0.999, test acc:0.964 ===\n",
      "=== epoch:20, train acc:0.998, test acc:0.969 ===\n",
      "=============== Final Test Accuracy ===============\n",
      "test acc:0.964\n"
     ]
    }
   ],
   "source": [
    "networks['RMSprop'] = SimpleConvNet(input_dim=(1,28,28), \n",
    "                        conv_param = {'filter_num': 30, 'filter_size': 5, 'pad': 0, 'stride': 1},\n",
    "                        hidden_size=100, output_size=10, weight_init_std=0.01)\n",
    "\n",
    "trainers['RMSprop'] = Trainer(networks['RMSprop'], x_train, t_train, x_test, t_test,\n",
    "                  epochs=max_epochs, mini_batch_size=100,\n",
    "                  optimizer='RMSprop', optimizer_param={'lr': 0.001},\n",
    "                  evaluate_sample_num_per_epoch=1000)\n",
    "\n",
    "trainers['RMSprop'].train()"
   ]
  },
  {
   "cell_type": "code",
   "execution_count": 3,
   "metadata": {},
   "outputs": [
    {
     "name": "stdout",
     "output_type": "stream",
     "text": [
      "=== epoch:1, train acc:0.105, test acc:0.126 ===\n",
      "=== epoch:2, train acc:0.82, test acc:0.798 ===\n",
      "=== epoch:3, train acc:0.884, test acc:0.867 ===\n",
      "=== epoch:4, train acc:0.902, test acc:0.887 ===\n",
      "=== epoch:5, train acc:0.92, test acc:0.905 ===\n",
      "=== epoch:6, train acc:0.926, test acc:0.907 ===\n",
      "=== epoch:7, train acc:0.946, test acc:0.929 ===\n",
      "=== epoch:8, train acc:0.955, test acc:0.936 ===\n",
      "=== epoch:9, train acc:0.965, test acc:0.927 ===\n",
      "=== epoch:10, train acc:0.963, test acc:0.938 ===\n",
      "=== epoch:11, train acc:0.965, test acc:0.94 ===\n",
      "=== epoch:12, train acc:0.969, test acc:0.942 ===\n",
      "=== epoch:13, train acc:0.978, test acc:0.95 ===\n",
      "=== epoch:14, train acc:0.984, test acc:0.952 ===\n",
      "=== epoch:15, train acc:0.985, test acc:0.953 ===\n",
      "=== epoch:16, train acc:0.989, test acc:0.951 ===\n",
      "=== epoch:17, train acc:0.99, test acc:0.958 ===\n",
      "=== epoch:18, train acc:0.991, test acc:0.957 ===\n",
      "=== epoch:19, train acc:0.994, test acc:0.952 ===\n",
      "=== epoch:20, train acc:0.992, test acc:0.959 ===\n",
      "=============== Final Test Accuracy ===============\n",
      "test acc:0.958\n"
     ]
    }
   ],
   "source": [
    "networks['Adam'] = SimpleConvNet(input_dim=(1,28,28), \n",
    "                        conv_param = {'filter_num': 30, 'filter_size': 5, 'pad': 0, 'stride': 1},\n",
    "                        hidden_size=100, output_size=10, weight_init_std=0.01)\n",
    "\n",
    "trainers['Adam'] = Trainer(networks['Adam'], x_train, t_train, x_test, t_test,\n",
    "                  epochs=max_epochs, mini_batch_size=100,\n",
    "                  optimizer='Adam', optimizer_param={'lr': 0.001},\n",
    "                  evaluate_sample_num_per_epoch=1000)\n",
    "\n",
    "trainers['Adam'].train()"
   ]
  },
  {
   "cell_type": "code",
   "execution_count": 4,
   "metadata": {},
   "outputs": [
    {
     "name": "stdout",
     "output_type": "stream",
     "text": [
      "=== epoch:1, train acc:0.252, test acc:0.267 ===\n",
      "=== epoch:2, train acc:0.785, test acc:0.77 ===\n",
      "=== epoch:3, train acc:0.878, test acc:0.871 ===\n",
      "=== epoch:4, train acc:0.892, test acc:0.894 ===\n",
      "=== epoch:5, train acc:0.887, test acc:0.876 ===\n",
      "=== epoch:6, train acc:0.929, test acc:0.909 ===\n",
      "=== epoch:7, train acc:0.941, test acc:0.904 ===\n",
      "=== epoch:8, train acc:0.949, test acc:0.929 ===\n",
      "=== epoch:9, train acc:0.953, test acc:0.934 ===\n",
      "=== epoch:10, train acc:0.956, test acc:0.937 ===\n",
      "=== epoch:11, train acc:0.972, test acc:0.935 ===\n",
      "=== epoch:12, train acc:0.974, test acc:0.943 ===\n",
      "=== epoch:13, train acc:0.977, test acc:0.944 ===\n",
      "=== epoch:14, train acc:0.979, test acc:0.946 ===\n",
      "=== epoch:15, train acc:0.981, test acc:0.948 ===\n",
      "=== epoch:16, train acc:0.985, test acc:0.955 ===\n",
      "=== epoch:17, train acc:0.991, test acc:0.962 ===\n",
      "=== epoch:18, train acc:0.975, test acc:0.941 ===\n",
      "=== epoch:19, train acc:0.996, test acc:0.959 ===\n",
      "=== epoch:20, train acc:0.993, test acc:0.962 ===\n",
      "=============== Final Test Accuracy ===============\n",
      "test acc:0.958\n"
     ]
    }
   ],
   "source": [
    "networks['SDprop'] = SimpleConvNet(input_dim=(1,28,28), \n",
    "                        conv_param = {'filter_num': 30, 'filter_size': 5, 'pad': 0, 'stride': 1},\n",
    "                        hidden_size=100, output_size=10, weight_init_std=0.01)\n",
    "\n",
    "trainers['SDprop'] = Trainer(networks['SDprop'], x_train, t_train, x_test, t_test,\n",
    "                  epochs=max_epochs, mini_batch_size=100,\n",
    "                  optimizer='SDprop', optimizer_param={'lr': 0.001},\n",
    "                  evaluate_sample_num_per_epoch=1000)\n",
    "\n",
    "trainers['SDprop'].train()"
   ]
  },
  {
   "cell_type": "code",
   "execution_count": 5,
   "metadata": {},
   "outputs": [
    {
     "data": {
      "image/png": "[encoded data removed]",
      "text/plain": [
       "<Figure size 432x288 with 1 Axes>"
      ]
     },
     "metadata": {},
     "output_type": "display_data"
    }
   ],
   "source": [
    "# グラフの描画\n",
    "markers = {'RMSprop': '*', 'Adam': 'D', 'SDprop': 'o'}\n",
    "x = np.arange(max_epochs)\n",
    "#plt.plot(x, trainer.train_acc_list, marker='o', label='train', markevery=2)\n",
    "plt.plot(x, trainers['RMSprop'].test_acc_list, marker='*', label='RMSprop', markevery=2)\n",
    "plt.plot(x, trainers['Adam'].test_acc_list, marker='D', label='Adam', markevery=2)\n",
    "plt.plot(x, trainers['SDprop'].test_acc_list, marker='o', label='SDprop', markevery=2)\n",
    "plt.xlabel(\"epochs\")\n",
    "plt.ylabel(\"accuracy\")\n",
    "plt.ylim(0.8, 1.0)\n",
    "plt.legend(loc='lower right')\n",
    "plt.show()"
   ]
  },
  {
   "cell_type": "code",
   "execution_count": null,
   "metadata": {},
   "outputs": [],
   "source": []
  }
 ],
 "metadata": {
  "kernelspec": {
   "display_name": "Python 3",
   "language": "python",
   "name": "python3"
  },
  "language_info": {
   "codemirror_mode": {
    "name": "ipython",
    "version": 3
   },
   "file_extension": ".py",
   "mimetype": "text/x-python",
   "name": "python",
   "nbconvert_exporter": "python",
   "pygments_lexer": "ipython3",
   "version": "3.6.5"
  }
 },
 "nbformat": 4,
 "nbformat_minor": 2
}
