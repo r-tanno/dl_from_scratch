{
 "cells": [
  {
   "cell_type": "code",
   "execution_count": 1,
   "metadata": {},
   "outputs": [],
   "source": [
    "# coding: utf-8\n",
    "import os\n",
    "import sys\n",
    "sys.path.append(os.pardir)  # 親ディレクトリのファイルをインポートするための設定\n",
    "import matplotlib.pyplot as plt\n",
    "from dataset.mnist import load_mnist\n",
    "from common.util import smooth_curve\n",
    "from common.multi_layer_net import MultiLayerNet\n",
    "from common.optimizer import *"
   ]
  },
  {
   "cell_type": "code",
   "execution_count": 2,
   "metadata": {},
   "outputs": [],
   "source": [
    "# 0:MNISTデータの読み込み==========\n",
    "(x_train, t_train), (x_test, t_test) = load_mnist(normalize=True)\n",
    "\n",
    "train_size = x_train.shape[0]\n",
    "batch_size = 128\n",
    "max_iterations = 2000"
   ]
  },
  {
   "cell_type": "code",
   "execution_count": 3,
   "metadata": {},
   "outputs": [],
   "source": [
    "# 1:実験の設定==========\n",
    "optimizers = {}\n",
    "#optimizers['SGD'] = SGD()\n",
    "#optimizers['Momentum'] = Momentum()\n",
    "optimizers['AdaGrad'] = AdaGrad()\n",
    "optimizers['Adam'] = Adam()\n",
    "optimizers['RMSprop'] = RMSprop()\n",
    "optimizers['SDprop'] = SDprop()"
   ]
  },
  {
   "cell_type": "code",
   "execution_count": 4,
   "metadata": {},
   "outputs": [],
   "source": [
    "networks = {}\n",
    "train_loss = {}\n",
    "for key in optimizers.keys():\n",
    "    networks[key] = MultiLayerNet(\n",
    "        input_size=784, hidden_size_list=[100, 100, 100, 100],\n",
    "        output_size=10)\n",
    "    train_loss[key] = []"
   ]
  },
  {
   "cell_type": "code",
   "execution_count": 5,
   "metadata": {
    "scrolled": false
   },
   "outputs": [
    {
     "name": "stdout",
     "output_type": "stream",
     "text": [
      "===========iteration:0===========\n",
      "AdaGrad:2.11504919579741\n",
      "Adam:2.2115437208889626\n",
      "RMSprop:2.0335782539055387\n",
      "SDprop:2.3996371491245947\n",
      "===========iteration:100===========\n",
      "AdaGrad:0.18051485333888373\n",
      "Adam:0.29340702684422204\n",
      "RMSprop:0.11444263815870392\n",
      "SDprop:1.0116282339931173\n",
      "===========iteration:200===========\n",
      "AdaGrad:0.07087004601111274\n",
      "Adam:0.16534533085246655\n",
      "RMSprop:0.07962737972921734\n",
      "SDprop:0.4995116764468469\n",
      "===========iteration:300===========\n",
      "AdaGrad:0.10928255630357667\n",
      "Adam:0.21495662021727602\n",
      "RMSprop:0.08198602780577233\n",
      "SDprop:0.4763018908607356\n",
      "===========iteration:400===========\n",
      "AdaGrad:0.13087884629724184\n",
      "Adam:0.1895864066307414\n",
      "RMSprop:0.0858470815426994\n",
      "SDprop:0.3737885266018852\n",
      "===========iteration:500===========\n",
      "AdaGrad:0.09246700777745247\n",
      "Adam:0.1355551283094631\n",
      "RMSprop:0.05653018713917196\n",
      "SDprop:0.3550870344907152\n",
      "===========iteration:600===========\n",
      "AdaGrad:0.03637352252718734\n",
      "Adam:0.06566739951411939\n",
      "RMSprop:0.01334448768079752\n",
      "SDprop:0.1529972653754902\n",
      "===========iteration:700===========\n",
      "AdaGrad:0.0937507291549499\n",
      "Adam:0.11715823654012053\n",
      "RMSprop:0.05428767109423193\n",
      "SDprop:0.2912099569319996\n",
      "===========iteration:800===========\n",
      "AdaGrad:0.11255863402453774\n",
      "Adam:0.1021494870844543\n",
      "RMSprop:0.062489171295671685\n",
      "SDprop:0.28381564099751\n",
      "===========iteration:900===========\n",
      "AdaGrad:0.08816389031680662\n",
      "Adam:0.10299439942045172\n",
      "RMSprop:0.027752573299140167\n",
      "SDprop:0.26737622952233475\n",
      "===========iteration:1000===========\n",
      "AdaGrad:0.05774583129314443\n",
      "Adam:0.06840990609667916\n",
      "RMSprop:0.013635247385898299\n",
      "SDprop:0.16738846092582896\n",
      "===========iteration:1100===========\n",
      "AdaGrad:0.04749373779103011\n",
      "Adam:0.048513304651323454\n",
      "RMSprop:0.010918390329614693\n",
      "SDprop:0.15243779730282947\n",
      "===========iteration:1200===========\n",
      "AdaGrad:0.05098558254760723\n",
      "Adam:0.03790559534622544\n",
      "RMSprop:0.011767810837583508\n",
      "SDprop:0.1983296728656685\n",
      "===========iteration:1300===========\n",
      "AdaGrad:0.02246948166330121\n",
      "Adam:0.04228517047092648\n",
      "RMSprop:0.01629110983291715\n",
      "SDprop:0.1291629791616341\n",
      "===========iteration:1400===========\n",
      "AdaGrad:0.041035234862536143\n",
      "Adam:0.08076532921638777\n",
      "RMSprop:0.016535417940145986\n",
      "SDprop:0.15804321364322177\n",
      "===========iteration:1500===========\n",
      "AdaGrad:0.01989660154700309\n",
      "Adam:0.011310721862713514\n",
      "RMSprop:0.004447691322805267\n",
      "SDprop:0.13453103936844965\n",
      "===========iteration:1600===========\n",
      "AdaGrad:0.042777128752268814\n",
      "Adam:0.02095436843743346\n",
      "RMSprop:0.03688466091517171\n",
      "SDprop:0.17566167683976458\n"
     ]
    },
    {
     "ename": "KeyboardInterrupt",
     "evalue": "",
     "output_type": "error",
     "traceback": [
      "\u001b[0;31m---------------------------------------------------------------------------\u001b[0m",
      "\u001b[0;31mKeyboardInterrupt\u001b[0m                         Traceback (most recent call last)",
      "\u001b[0;32m<ipython-input-5-9eb126bc9578>\u001b[0m in \u001b[0;36m<module>\u001b[0;34m()\u001b[0m\n\u001b[1;32m      6\u001b[0m \u001b[0;34m\u001b[0m\u001b[0m\n\u001b[1;32m      7\u001b[0m     \u001b[0;32mfor\u001b[0m \u001b[0mkey\u001b[0m \u001b[0;32min\u001b[0m \u001b[0moptimizers\u001b[0m\u001b[0;34m.\u001b[0m\u001b[0mkeys\u001b[0m\u001b[0;34m(\u001b[0m\u001b[0;34m)\u001b[0m\u001b[0;34m:\u001b[0m\u001b[0;34m\u001b[0m\u001b[0m\n\u001b[0;32m----> 8\u001b[0;31m         \u001b[0mgrads\u001b[0m \u001b[0;34m=\u001b[0m \u001b[0mnetworks\u001b[0m\u001b[0;34m[\u001b[0m\u001b[0mkey\u001b[0m\u001b[0;34m]\u001b[0m\u001b[0;34m.\u001b[0m\u001b[0mgradient\u001b[0m\u001b[0;34m(\u001b[0m\u001b[0mx_batch\u001b[0m\u001b[0;34m,\u001b[0m \u001b[0mt_batch\u001b[0m\u001b[0;34m)\u001b[0m\u001b[0;34m\u001b[0m\u001b[0m\n\u001b[0m\u001b[1;32m      9\u001b[0m         \u001b[0moptimizers\u001b[0m\u001b[0;34m[\u001b[0m\u001b[0mkey\u001b[0m\u001b[0;34m]\u001b[0m\u001b[0;34m.\u001b[0m\u001b[0mupdate\u001b[0m\u001b[0;34m(\u001b[0m\u001b[0mnetworks\u001b[0m\u001b[0;34m[\u001b[0m\u001b[0mkey\u001b[0m\u001b[0;34m]\u001b[0m\u001b[0;34m.\u001b[0m\u001b[0mparams\u001b[0m\u001b[0;34m,\u001b[0m \u001b[0mgrads\u001b[0m\u001b[0;34m)\u001b[0m\u001b[0;34m\u001b[0m\u001b[0m\n\u001b[1;32m     10\u001b[0m \u001b[0;34m\u001b[0m\u001b[0m\n",
      "\u001b[0;32m~/Dev/pyenv/dl_from_scratch/common/multi_layer_net.py\u001b[0m in \u001b[0;36mgradient\u001b[0;34m(self, x, t)\u001b[0m\n\u001b[1;32m    155\u001b[0m         \u001b[0mgrads\u001b[0m \u001b[0;34m=\u001b[0m \u001b[0;34m{\u001b[0m\u001b[0;34m}\u001b[0m\u001b[0;34m\u001b[0m\u001b[0m\n\u001b[1;32m    156\u001b[0m         \u001b[0;32mfor\u001b[0m \u001b[0midx\u001b[0m \u001b[0;32min\u001b[0m \u001b[0mrange\u001b[0m\u001b[0;34m(\u001b[0m\u001b[0;36m1\u001b[0m\u001b[0;34m,\u001b[0m \u001b[0mself\u001b[0m\u001b[0;34m.\u001b[0m\u001b[0mhidden_layer_num\u001b[0m\u001b[0;34m+\u001b[0m\u001b[0;36m2\u001b[0m\u001b[0;34m)\u001b[0m\u001b[0;34m:\u001b[0m\u001b[0;34m\u001b[0m\u001b[0m\n\u001b[0;32m--> 157\u001b[0;31m             \u001b[0mgrads\u001b[0m\u001b[0;34m[\u001b[0m\u001b[0;34m'W'\u001b[0m \u001b[0;34m+\u001b[0m \u001b[0mstr\u001b[0m\u001b[0;34m(\u001b[0m\u001b[0midx\u001b[0m\u001b[0;34m)\u001b[0m\u001b[0;34m]\u001b[0m \u001b[0;34m=\u001b[0m \u001b[0mself\u001b[0m\u001b[0;34m.\u001b[0m\u001b[0mlayers\u001b[0m\u001b[0;34m[\u001b[0m\u001b[0;34m'Affine'\u001b[0m \u001b[0;34m+\u001b[0m \u001b[0mstr\u001b[0m\u001b[0;34m(\u001b[0m\u001b[0midx\u001b[0m\u001b[0;34m)\u001b[0m\u001b[0;34m]\u001b[0m\u001b[0;34m.\u001b[0m\u001b[0mdW\u001b[0m \u001b[0;34m+\u001b[0m \u001b[0mself\u001b[0m\u001b[0;34m.\u001b[0m\u001b[0mweight_decay_lambda\u001b[0m \u001b[0;34m*\u001b[0m \u001b[0mself\u001b[0m\u001b[0;34m.\u001b[0m\u001b[0mlayers\u001b[0m\u001b[0;34m[\u001b[0m\u001b[0;34m'Affine'\u001b[0m \u001b[0;34m+\u001b[0m \u001b[0mstr\u001b[0m\u001b[0;34m(\u001b[0m\u001b[0midx\u001b[0m\u001b[0;34m)\u001b[0m\u001b[0;34m]\u001b[0m\u001b[0;34m.\u001b[0m\u001b[0mW\u001b[0m\u001b[0;34m\u001b[0m\u001b[0m\n\u001b[0m\u001b[1;32m    158\u001b[0m             \u001b[0mgrads\u001b[0m\u001b[0;34m[\u001b[0m\u001b[0;34m'b'\u001b[0m \u001b[0;34m+\u001b[0m \u001b[0mstr\u001b[0m\u001b[0;34m(\u001b[0m\u001b[0midx\u001b[0m\u001b[0;34m)\u001b[0m\u001b[0;34m]\u001b[0m \u001b[0;34m=\u001b[0m \u001b[0mself\u001b[0m\u001b[0;34m.\u001b[0m\u001b[0mlayers\u001b[0m\u001b[0;34m[\u001b[0m\u001b[0;34m'Affine'\u001b[0m \u001b[0;34m+\u001b[0m \u001b[0mstr\u001b[0m\u001b[0;34m(\u001b[0m\u001b[0midx\u001b[0m\u001b[0;34m)\u001b[0m\u001b[0;34m]\u001b[0m\u001b[0;34m.\u001b[0m\u001b[0mdb\u001b[0m\u001b[0;34m\u001b[0m\u001b[0m\n\u001b[1;32m    159\u001b[0m \u001b[0;34m\u001b[0m\u001b[0m\n",
      "\u001b[0;31mKeyboardInterrupt\u001b[0m: "
     ]
    }
   ],
   "source": [
    "# 2:訓練の開始==========\n",
    "for i in range(max_iterations):\n",
    "    batch_mask = np.random.choice(train_size, batch_size)\n",
    "    x_batch = x_train[batch_mask]\n",
    "    t_batch = t_train[batch_mask]\n",
    "    \n",
    "    for key in optimizers.keys():\n",
    "        grads = networks[key].gradient(x_batch, t_batch)\n",
    "        optimizers[key].update(networks[key].params, grads)\n",
    "    \n",
    "        loss = networks[key].loss(x_batch, t_batch)\n",
    "        train_loss[key].append(loss)\n",
    "    \n",
    "    if i % 100 == 0:\n",
    "        print( \"===========\" + \"iteration:\" + str(i) + \"===========\")\n",
    "        for key in optimizers.keys():\n",
    "            loss = networks[key].loss(x_batch, t_batch)\n",
    "            print(key + \":\" + str(loss))"
   ]
  },
  {
   "cell_type": "code",
   "execution_count": null,
   "metadata": {},
   "outputs": [],
   "source": [
    "# 3.グラフの描画==========\n",
    "#markers = {\"SGD\": \"o\", \"Momentum\": \"x\", \"AdaGrad\": \"s\", \"Adam\": \"D\", \"RMSprop\": \"*\"}\n",
    "#markers = {\"Momentum\": \"x\", \"AdaGrad\": \"s\", \"Adam\": \"D\", \"RMSprop\": \"*\", \"SDprop\": \"o\" }\n",
    "markers = {\"AdaGrad\": \"s\", \"Adam\": \"D\", \"RMSprop\": \"*\", \"SDprop\": \"o\" }\n",
    "#markers = {\"Adam\": \"D\", \"RMSprop\": \"*\", \"SDprop\": \"o\" }\n",
    "\n",
    "x = np.arange(max_iterations)\n",
    "for key in optimizers.keys():\n",
    "    plt.plot(x, smooth_curve(train_loss[key]), marker=markers[key], markevery=100, label=key)\n",
    "plt.xlabel(\"iterations\")\n",
    "plt.ylabel(\"loss\")\n",
    "plt.ylim(0, 0.15)\n",
    "plt.legend()\n",
    "plt.show()"
   ]
  },
  {
   "cell_type": "code",
   "execution_count": null,
   "metadata": {},
   "outputs": [],
   "source": []
  }
 ],
 "metadata": {
  "kernelspec": {
   "display_name": "Python 3",
   "language": "python",
   "name": "python3"
  },
  "language_info": {
   "codemirror_mode": {
    "name": "ipython",
    "version": 3
   },
   "file_extension": ".py",
   "mimetype": "text/x-python",
   "name": "python",
   "nbconvert_exporter": "python",
   "pygments_lexer": "ipython3",
   "version": "3.6.5"
  }
 },
 "nbformat": 4,
 "nbformat_minor": 2
}
